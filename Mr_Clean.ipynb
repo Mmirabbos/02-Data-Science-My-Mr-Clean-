{
 "cells": [
  {
   "cell_type": "code",
   "execution_count": 1,
   "metadata": {},
   "outputs": [],
   "source": [
    "import ssl\n",
    "import re\n",
    "import requests\n",
    "from bs4 import BeautifulSoup\n",
    "import matplotlib.pyplot as plt\n",
    "import collections\n",
    "import numpy as np\n",
    "import nltk\n",
    "from nltk.corpus import stopwords"
   ]
  },
  {
   "cell_type": "code",
   "execution_count": 2,
   "metadata": {},
   "outputs": [],
   "source": [
    "ssl._create_default_https_context = ssl._create_unverified_context\n",
    "\n",
    "try:\n",
    "    nltk.data.find('corpora/stopwords.zip')\n",
    "except LookupError:\n",
    "    nltk.download('stopwords')\n",
    "\n",
    "stop_words = set(stopwords.words('english'))\n",
    "\n",
    "words = {\"nm\", \"bm\", \"doi\", \"uv\", \"may\", \"cfcs\", \"pmid\", \"also\"}"
   ]
  },
  {
   "cell_type": "code",
   "execution_count": 3,
   "metadata": {},
   "outputs": [],
   "source": [
    "def get_content(name):\n",
    "    url = f\"https://en.wikipedia.org/wiki/{name}\"\n",
    "    request = requests.get(url)\n",
    "    soup = BeautifulSoup(request.text, \"html.parser\")\n",
    "    content_div = soup.find(\"div\", class_=\"mw-content-ltr mw-parser-output\")\n",
    "    cleaned_text = content_div.get_text(strip=True, separator=' ')\n",
    "    cleaned_text = ' '.join(cleaned_text.split())\n",
    "    return cleaned_text"
   ]
  },
  {
   "cell_type": "code",
   "execution_count": 4,
   "metadata": {},
   "outputs": [],
   "source": [
    "\n",
    "def merge_contents(data):\n",
    "    text = (data.split())\n",
    "    x = [string.lower() for string in text]\n",
    "    return x"
   ]
  },
  {
   "cell_type": "code",
   "execution_count": 5,
   "metadata": {},
   "outputs": [],
   "source": [
    "def words_sort(param):\n",
    "    text = ' '.join(param)\n",
    "    text_cleaning = re.sub(r'[^\\w\\s]', '', text)\n",
    "    cleaned_list = text_cleaning.split()\n",
    "    cleaned_list = [word for word in cleaned_list if word.lower() not in stop_words and not any(char.isdigit() for char in word) and all(unwanted_word not in word.lower() for unwanted_word in words)]\n",
    "    return cleaned_list\n"
   ]
  },
  {
   "cell_type": "code",
   "execution_count": 6,
   "metadata": {},
   "outputs": [],
   "source": [
    "def matplotlib(cleaned_list, top_n):\n",
    "    top = collections.Counter(cleaned_list)\n",
    "    sorted_word = sorted(top.items(), key=lambda x: x[1], reverse=True)[:top_n][::-1]\n",
    "    words, frequencies = zip(*sorted_word)\n",
    "    colors = plt.cm.rainbow(np.linspace(0, 1, len(words)))\n",
    "\n",
    "    plt.barh(words, frequencies, color=colors)\n",
    "    plt.xlabel('Frequency')\n",
    "    plt.ylabel('Words')\n",
    "    plt.title('Word Frequency Chart')\n",
    "    plt.show()"
   ]
  },
  {
   "cell_type": "code",
   "execution_count": 7,
   "metadata": {},
   "outputs": [
    {
     "data": {
      "image/png": "[encoded data removed]",
      "text/plain": [
       "<Figure size 432x288 with 1 Axes>"
      ]
     },
     "metadata": {
      "needs_background": "light"
     },
     "output_type": "display_data"
    }
   ],
   "source": [
    "content = get_content(\"Ozone_layer\")\n",
    "merge_content = merge_contents(content)\n",
    "cleaned_list = words_sort(merge_content)\n",
    "matplotlib(cleaned_list, 20)"
   ]
  }
 ],
 "metadata": {
  "kernelspec": {
   "display_name": "Python 3",
   "language": "python",
   "name": "python3"
  },
  "language_info": {
   "codemirror_mode": {
    "name": "ipython",
    "version": 3
   },
   "file_extension": ".py",
   "mimetype": "text/x-python",
   "name": "python",
   "nbconvert_exporter": "python",
   "pygments_lexer": "ipython3",
   "version": "3.10.4"
  },
  "orig_nbformat": 4
 },
 "nbformat": 4,
 "nbformat_minor": 2
}
