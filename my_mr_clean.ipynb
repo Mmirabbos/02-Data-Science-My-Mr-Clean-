{
 "cells": [
  {
   "cell_type": "code",
   "execution_count": 1,
   "metadata": {},
   "outputs": [],
   "source": [
    "import re\n",
    "import requests\n",
    "from bs4 import BeautifulSoup\n",
    "import matplotlib.pyplot as plt\n",
    "import collections\n",
    "import numpy as np\n",
    "import nltk\n",
    "from nltk.corpus import stopwords"
   ]
  },
  {
   "cell_type": "code",
   "execution_count": 10,
   "metadata": {},
   "outputs": [],
   "source": [
    "try:\n",
    "    nltk.data.find('corpora/stopwords.zip')\n",
    "except LookupError:\n",
    "    nltk.download('stopwords')\n",
    "\n",
    "stop_words = set(stopwords.words('english'))\n"
   ]
  },
  {
   "cell_type": "code",
   "execution_count": 11,
   "metadata": {},
   "outputs": [],
   "source": [
    "user = input(\"Write your site: \")\n",
    "url = f\"https://en.wikipedia.org/wiki/{user}\"\n",
    "\n",
    "def get_content(article_url):\n",
    "    request = requests.get(article_url)\n",
    "    soup = BeautifulSoup(request.text, \"html.parser\")\n",
    "    content_div = soup.find(\"div\", class_=\"mw-content-ltr mw-parser-output\", dir=\"ltr\")\n",
    "    cleaned_text = content_div.get_text(strip=True, separator=' ')\n",
    "    cleaned_text = ' '.join(cleaned_text.split())\n",
    "    return cleaned_text\n",
    "\n",
    "content = get_content(url)"
   ]
  },
  {
   "cell_type": "code",
   "execution_count": 4,
   "metadata": {},
   "outputs": [],
   "source": [
    "def merge_contents(data):\n",
    "    cleaned_content = re.sub(r'\\[\\[.*?\\]\\]|\\{.*?\\}|<.*?>', '', data)\n",
    "    return cleaned_content\n",
    "\n",
    "merge_content = merge_contents(content)"
   ]
  },
  {
   "cell_type": "code",
   "execution_count": 5,
   "metadata": {},
   "outputs": [],
   "source": [
    "def tokenize(param):\n",
    "    cleaned_list = re.findall(r'\\b\\w+\\b', param.lower())\n",
    "    cleaned_list = [word for word in cleaned_list if word.lower() not in stop_words and word.lower() not in [\"nm\", \"bm\", \"doi\",\n",
    "                                                                                                             \"uv\", \"may\", \"cfcs\",\n",
    "                                                                                                             \"pmid\", \"also\", '10',\n",
    "                                                                                                             '3', '9', '2', 'c', 'b',\n",
    "                                                                                                             '5', '2011', '1', 'epa', '100']]\n",
    "    return cleaned_list\n",
    "\n",
    "tokens = tokenize(merge_content)"
   ]
  },
  {
   "cell_type": "code",
   "execution_count": 6,
   "metadata": {},
   "outputs": [],
   "source": [
    "def lower_collection(param):\n",
    "    text = ''.join(param)\n",
    "    lowercased_text = text.lower()\n",
    "    cleaned_list = lowercased_text.split()\n",
    "    return cleaned_list\n",
    "\n",
    "lower = lower_collection(tokens)"
   ]
  },
  {
   "cell_type": "code",
   "execution_count": 7,
   "metadata": {},
   "outputs": [],
   "source": [
    "def count_frequency(collection):\n",
    "    frequencies = {}\n",
    "    for word in collection:\n",
    "        frequencies[word] = frequencies.get(word, 0) + 1\n",
    "    return frequencies\n",
    "\n",
    "count = count_frequency(lower)"
   ]
  },
  {
   "cell_type": "code",
   "execution_count": 8,
   "metadata": {},
   "outputs": [
    {
     "data": {
      "image/png": "[encoded data removed]",
      "text/plain": [
       "<Figure size 432x288 with 1 Axes>"
      ]
     },
     "metadata": {
      "needs_background": "light"
     },
     "output_type": "display_data"
    }
   ],
   "source": [
    "def plot_most_frequent(tokens, top_n):\n",
    "    top = collections.Counter(tokens)\n",
    "    sorted_word = sorted(top.items(), key=lambda x: x[1], reverse=True)[:top_n][::-1]\n",
    "    words, frequencies = zip(*sorted_word)\n",
    "    colors = plt.cm.rainbow(np.linspace(0, 1, len(words)))\n",
    "\n",
    "    plt.barh(words, frequencies, color=colors)\n",
    "    plt.xlabel('Frequency')\n",
    "    plt.ylabel('Words')\n",
    "    plt.title('Word Frequency Chart')\n",
    "    plt.show()\n",
    "\n",
    "plot_most_frequent(tokens, 20)"
   ]
  }
 ],
 "metadata": {
  "kernelspec": {
   "display_name": "Python 3",
   "language": "python",
   "name": "python3"
  },
  "language_info": {
   "codemirror_mode": {
    "name": "ipython",
    "version": 3
   },
   "file_extension": ".py",
   "mimetype": "text/x-python",
   "name": "python",
   "nbconvert_exporter": "python",
   "pygments_lexer": "ipython3",
   "version": "3.10.4"
  }
 },
 "nbformat": 4,
 "nbformat_minor": 2
}
